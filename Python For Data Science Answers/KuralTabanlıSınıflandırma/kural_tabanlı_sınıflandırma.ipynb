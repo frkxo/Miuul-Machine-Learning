{
 "cells": [
  {
   "cell_type": "markdown",
   "source": [
    "## PROJE GÖREVLERİ"
   ],
   "metadata": {
    "collapsed": false
   }
  },
  {
   "cell_type": "markdown",
   "source": [
    "# GÖREV 1: Aşağıdaki soruları yanıtlayınız."
   ],
   "metadata": {
    "collapsed": false
   }
  },
  {
   "cell_type": "code",
   "execution_count": 3,
   "outputs": [
    {
     "data": {
      "text/plain": "   PRICE   SOURCE   SEX COUNTRY  AGE\n0     39  android  male     bra   17\n1     39  android  male     bra   17\n2     49  android  male     bra   17\n3     29  android  male     tur   17\n4     49  android  male     tur   17",
      "text/html": "<div>\n<style scoped>\n    .dataframe tbody tr th:only-of-type {\n        vertical-align: middle;\n    }\n\n    .dataframe tbody tr th {\n        vertical-align: top;\n    }\n\n    .dataframe thead th {\n        text-align: right;\n    }\n</style>\n<table border=\"1\" class=\"dataframe\">\n  <thead>\n    <tr style=\"text-align: right;\">\n      <th></th>\n      <th>PRICE</th>\n      <th>SOURCE</th>\n      <th>SEX</th>\n      <th>COUNTRY</th>\n      <th>AGE</th>\n    </tr>\n  </thead>\n  <tbody>\n    <tr>\n      <th>0</th>\n      <td>39</td>\n      <td>android</td>\n      <td>male</td>\n      <td>bra</td>\n      <td>17</td>\n    </tr>\n    <tr>\n      <th>1</th>\n      <td>39</td>\n      <td>android</td>\n      <td>male</td>\n      <td>bra</td>\n      <td>17</td>\n    </tr>\n    <tr>\n      <th>2</th>\n      <td>49</td>\n      <td>android</td>\n      <td>male</td>\n      <td>bra</td>\n      <td>17</td>\n    </tr>\n    <tr>\n      <th>3</th>\n      <td>29</td>\n      <td>android</td>\n      <td>male</td>\n      <td>tur</td>\n      <td>17</td>\n    </tr>\n    <tr>\n      <th>4</th>\n      <td>49</td>\n      <td>android</td>\n      <td>male</td>\n      <td>tur</td>\n      <td>17</td>\n    </tr>\n  </tbody>\n</table>\n</div>"
     },
     "execution_count": 3,
     "metadata": {},
     "output_type": "execute_result"
    }
   ],
   "source": [
    "# Soru 1: persona.csv dosyasını okutunuz ve veri seti ile ilgili genel bilgileri gösteriniz.\n",
    "import pandas as pd\n",
    "\n",
    "pd.set_option('display.max_columns', None)\n",
    "pd.set_option('display.width', 500)\n",
    "\n",
    "persona = pd.read_csv(\"persona.csv\")\n",
    "df = persona.copy()\n",
    "df.head()"
   ],
   "metadata": {
    "collapsed": false,
    "ExecuteTime": {
     "end_time": "2023-07-24T12:36:46.653486Z",
     "start_time": "2023-07-24T12:36:46.640802Z"
    }
   }
  },
  {
   "cell_type": "code",
   "execution_count": 4,
   "outputs": [
    {
     "name": "stdout",
     "output_type": "stream",
     "text": [
      "<class 'pandas.core.frame.DataFrame'>\n",
      "Int64Index: 5000 entries, 0 to 4999\n",
      "Data columns (total 5 columns):\n",
      " #   Column   Non-Null Count  Dtype \n",
      "---  ------   --------------  ----- \n",
      " 0   PRICE    5000 non-null   int64 \n",
      " 1   SOURCE   5000 non-null   object\n",
      " 2   SEX      5000 non-null   object\n",
      " 3   COUNTRY  5000 non-null   object\n",
      " 4   AGE      5000 non-null   int64 \n",
      "dtypes: int64(2), object(3)\n",
      "memory usage: 234.4+ KB\n"
     ]
    }
   ],
   "source": [
    "df.info()"
   ],
   "metadata": {
    "collapsed": false,
    "ExecuteTime": {
     "end_time": "2023-07-24T12:37:15.163765Z",
     "start_time": "2023-07-24T12:37:15.147908Z"
    }
   }
  },
  {
   "cell_type": "code",
   "execution_count": 5,
   "outputs": [
    {
     "data": {
      "text/plain": "        count     mean        std   min   25%   50%   75%   max\nPRICE  5000.0  34.1320  12.464897   9.0  29.0  39.0  39.0  59.0\nAGE    5000.0  23.5814   8.995908  15.0  17.0  21.0  27.0  66.0",
      "text/html": "<div>\n<style scoped>\n    .dataframe tbody tr th:only-of-type {\n        vertical-align: middle;\n    }\n\n    .dataframe tbody tr th {\n        vertical-align: top;\n    }\n\n    .dataframe thead th {\n        text-align: right;\n    }\n</style>\n<table border=\"1\" class=\"dataframe\">\n  <thead>\n    <tr style=\"text-align: right;\">\n      <th></th>\n      <th>count</th>\n      <th>mean</th>\n      <th>std</th>\n      <th>min</th>\n      <th>25%</th>\n      <th>50%</th>\n      <th>75%</th>\n      <th>max</th>\n    </tr>\n  </thead>\n  <tbody>\n    <tr>\n      <th>PRICE</th>\n      <td>5000.0</td>\n      <td>34.1320</td>\n      <td>12.464897</td>\n      <td>9.0</td>\n      <td>29.0</td>\n      <td>39.0</td>\n      <td>39.0</td>\n      <td>59.0</td>\n    </tr>\n    <tr>\n      <th>AGE</th>\n      <td>5000.0</td>\n      <td>23.5814</td>\n      <td>8.995908</td>\n      <td>15.0</td>\n      <td>17.0</td>\n      <td>21.0</td>\n      <td>27.0</td>\n      <td>66.0</td>\n    </tr>\n  </tbody>\n</table>\n</div>"
     },
     "execution_count": 5,
     "metadata": {},
     "output_type": "execute_result"
    }
   ],
   "source": [
    "df.describe().T"
   ],
   "metadata": {
    "collapsed": false,
    "ExecuteTime": {
     "end_time": "2023-07-24T12:37:32.059314Z",
     "start_time": "2023-07-24T12:37:32.039100Z"
    }
   }
  },
  {
   "cell_type": "code",
   "execution_count": 6,
   "outputs": [
    {
     "data": {
      "text/plain": "(5000, 5)"
     },
     "execution_count": 6,
     "metadata": {},
     "output_type": "execute_result"
    }
   ],
   "source": [
    "df.shape"
   ],
   "metadata": {
    "collapsed": false,
    "ExecuteTime": {
     "end_time": "2023-07-24T12:39:32.187792Z",
     "start_time": "2023-07-24T12:39:32.183245Z"
    }
   }
  },
  {
   "cell_type": "code",
   "execution_count": 7,
   "outputs": [
    {
     "data": {
      "text/plain": "False"
     },
     "execution_count": 7,
     "metadata": {},
     "output_type": "execute_result"
    }
   ],
   "source": [
    "df.isnull().values.any()"
   ],
   "metadata": {
    "collapsed": false,
    "ExecuteTime": {
     "end_time": "2023-07-24T12:39:39.253343Z",
     "start_time": "2023-07-24T12:39:39.245802Z"
    }
   }
  },
  {
   "cell_type": "code",
   "execution_count": 8,
   "outputs": [
    {
     "data": {
      "text/plain": "PRICE      0\nSOURCE     0\nSEX        0\nCOUNTRY    0\nAGE        0\ndtype: int64"
     },
     "execution_count": 8,
     "metadata": {},
     "output_type": "execute_result"
    }
   ],
   "source": [
    "df.isnull().sum()"
   ],
   "metadata": {
    "collapsed": false,
    "ExecuteTime": {
     "end_time": "2023-07-24T12:39:42.479596Z",
     "start_time": "2023-07-24T12:39:42.472920Z"
    }
   }
  },
  {
   "cell_type": "code",
   "execution_count": 9,
   "outputs": [
    {
     "data": {
      "text/plain": "PRICE       6\nSOURCE      2\nSEX         2\nCOUNTRY     6\nAGE        46\ndtype: int64"
     },
     "execution_count": 9,
     "metadata": {},
     "output_type": "execute_result"
    }
   ],
   "source": [
    "df.nunique()"
   ],
   "metadata": {
    "collapsed": false,
    "ExecuteTime": {
     "end_time": "2023-07-24T12:39:48.310709Z",
     "start_time": "2023-07-24T12:39:48.299495Z"
    }
   }
  },
  {
   "cell_type": "code",
   "execution_count": 12,
   "outputs": [
    {
     "data": {
      "text/plain": "android    2974\nios        2026\nName: SOURCE, dtype: int64"
     },
     "execution_count": 12,
     "metadata": {},
     "output_type": "execute_result"
    }
   ],
   "source": [
    "# Soru 2: Kaç unique SOURCE vardır? Frekansları nedir?\n",
    "df[\"SOURCE\"].unique()\n",
    "df[\"SOURCE\"].value_counts()"
   ],
   "metadata": {
    "collapsed": false,
    "ExecuteTime": {
     "end_time": "2023-07-24T12:40:37.749354Z",
     "start_time": "2023-07-24T12:40:37.743851Z"
    }
   }
  },
  {
   "cell_type": "code",
   "execution_count": 14,
   "outputs": [
    {
     "data": {
      "text/plain": "6"
     },
     "execution_count": 14,
     "metadata": {},
     "output_type": "execute_result"
    }
   ],
   "source": [
    "# Soru 3: Kaç unique PRICE vardır?\n",
    "df.PRICE.nunique()"
   ],
   "metadata": {
    "collapsed": false,
    "ExecuteTime": {
     "end_time": "2023-07-24T12:41:09.953958Z",
     "start_time": "2023-07-24T12:41:09.948414Z"
    }
   }
  },
  {
   "cell_type": "code",
   "execution_count": 15,
   "outputs": [
    {
     "data": {
      "text/plain": "29    1305\n39    1260\n49    1031\n19     992\n59     212\n9      200\nName: PRICE, dtype: int64"
     },
     "execution_count": 15,
     "metadata": {},
     "output_type": "execute_result"
    }
   ],
   "source": [
    "# Soru 4: Hangi PRICE'dan kaçar tane satış gerçekleşmiş?\n",
    "df.PRICE.value_counts()"
   ],
   "metadata": {
    "collapsed": false,
    "ExecuteTime": {
     "end_time": "2023-07-24T12:41:35.338562Z",
     "start_time": "2023-07-24T12:41:35.329495Z"
    }
   }
  },
  {
   "cell_type": "code",
   "execution_count": 16,
   "outputs": [
    {
     "data": {
      "text/plain": "usa    2065\nbra    1496\ndeu     455\ntur     451\nfra     303\ncan     230\nName: COUNTRY, dtype: int64"
     },
     "execution_count": 16,
     "metadata": {},
     "output_type": "execute_result"
    }
   ],
   "source": [
    "# Soru 5: Hangi ülkeden kaçar tane satış olmuş?\n",
    "df[\"COUNTRY\"].value_counts()"
   ],
   "metadata": {
    "collapsed": false,
    "ExecuteTime": {
     "end_time": "2023-07-24T12:42:00.551945Z",
     "start_time": "2023-07-24T12:42:00.542727Z"
    }
   }
  },
  {
   "cell_type": "code",
   "execution_count": 17,
   "outputs": [
    {
     "data": {
      "text/plain": "         PRICE\nCOUNTRY       \nbra      51354\ncan       7730\ndeu      15485\nfra      10177\ntur      15689\nusa      70225",
      "text/html": "<div>\n<style scoped>\n    .dataframe tbody tr th:only-of-type {\n        vertical-align: middle;\n    }\n\n    .dataframe tbody tr th {\n        vertical-align: top;\n    }\n\n    .dataframe thead th {\n        text-align: right;\n    }\n</style>\n<table border=\"1\" class=\"dataframe\">\n  <thead>\n    <tr style=\"text-align: right;\">\n      <th></th>\n      <th>PRICE</th>\n    </tr>\n    <tr>\n      <th>COUNTRY</th>\n      <th></th>\n    </tr>\n  </thead>\n  <tbody>\n    <tr>\n      <th>bra</th>\n      <td>51354</td>\n    </tr>\n    <tr>\n      <th>can</th>\n      <td>7730</td>\n    </tr>\n    <tr>\n      <th>deu</th>\n      <td>15485</td>\n    </tr>\n    <tr>\n      <th>fra</th>\n      <td>10177</td>\n    </tr>\n    <tr>\n      <th>tur</th>\n      <td>15689</td>\n    </tr>\n    <tr>\n      <th>usa</th>\n      <td>70225</td>\n    </tr>\n  </tbody>\n</table>\n</div>"
     },
     "execution_count": 17,
     "metadata": {},
     "output_type": "execute_result"
    }
   ],
   "source": [
    "# Soru 6: Ülkelere göre satışlardan toplam ne kadar kazanılmış?\n",
    "df.groupby(\"COUNTRY\").agg({\"PRICE\": \"sum\"})"
   ],
   "metadata": {
    "collapsed": false,
    "ExecuteTime": {
     "end_time": "2023-07-24T12:42:51.990805Z",
     "start_time": "2023-07-24T12:42:51.979553Z"
    }
   }
  },
  {
   "cell_type": "code",
   "execution_count": 18,
   "outputs": [
    {
     "data": {
      "text/plain": "android    2974\nios        2026\nName: SOURCE, dtype: int64"
     },
     "execution_count": 18,
     "metadata": {},
     "output_type": "execute_result"
    }
   ],
   "source": [
    "# Soru 7: SOURCE türlerine göre göre satış sayıları nedir?\n",
    "df.SOURCE.value_counts()"
   ],
   "metadata": {
    "collapsed": false,
    "ExecuteTime": {
     "end_time": "2023-07-24T12:43:15.596432Z",
     "start_time": "2023-07-24T12:43:15.592440Z"
    }
   }
  },
  {
   "cell_type": "code",
   "execution_count": 19,
   "outputs": [
    {
     "data": {
      "text/plain": "             PRICE\nCOUNTRY           \nbra      34.327540\ncan      33.608696\ndeu      34.032967\nfra      33.587459\ntur      34.787140\nusa      34.007264",
      "text/html": "<div>\n<style scoped>\n    .dataframe tbody tr th:only-of-type {\n        vertical-align: middle;\n    }\n\n    .dataframe tbody tr th {\n        vertical-align: top;\n    }\n\n    .dataframe thead th {\n        text-align: right;\n    }\n</style>\n<table border=\"1\" class=\"dataframe\">\n  <thead>\n    <tr style=\"text-align: right;\">\n      <th></th>\n      <th>PRICE</th>\n    </tr>\n    <tr>\n      <th>COUNTRY</th>\n      <th></th>\n    </tr>\n  </thead>\n  <tbody>\n    <tr>\n      <th>bra</th>\n      <td>34.327540</td>\n    </tr>\n    <tr>\n      <th>can</th>\n      <td>33.608696</td>\n    </tr>\n    <tr>\n      <th>deu</th>\n      <td>34.032967</td>\n    </tr>\n    <tr>\n      <th>fra</th>\n      <td>33.587459</td>\n    </tr>\n    <tr>\n      <th>tur</th>\n      <td>34.787140</td>\n    </tr>\n    <tr>\n      <th>usa</th>\n      <td>34.007264</td>\n    </tr>\n  </tbody>\n</table>\n</div>"
     },
     "execution_count": 19,
     "metadata": {},
     "output_type": "execute_result"
    }
   ],
   "source": [
    "# Soru 8: Ülkelere göre PRICE ortalamaları nedir?\n",
    "df.groupby(\"COUNTRY\").agg({\"PRICE\": \"mean\"})"
   ],
   "metadata": {
    "collapsed": false,
    "ExecuteTime": {
     "end_time": "2023-07-24T12:43:46.458423Z",
     "start_time": "2023-07-24T12:43:46.454439Z"
    }
   }
  },
  {
   "cell_type": "code",
   "execution_count": 21,
   "outputs": [
    {
     "data": {
      "text/plain": "             PRICE\nSOURCE            \nandroid  34.174849\nios      34.069102",
      "text/html": "<div>\n<style scoped>\n    .dataframe tbody tr th:only-of-type {\n        vertical-align: middle;\n    }\n\n    .dataframe tbody tr th {\n        vertical-align: top;\n    }\n\n    .dataframe thead th {\n        text-align: right;\n    }\n</style>\n<table border=\"1\" class=\"dataframe\">\n  <thead>\n    <tr style=\"text-align: right;\">\n      <th></th>\n      <th>PRICE</th>\n    </tr>\n    <tr>\n      <th>SOURCE</th>\n      <th></th>\n    </tr>\n  </thead>\n  <tbody>\n    <tr>\n      <th>android</th>\n      <td>34.174849</td>\n    </tr>\n    <tr>\n      <th>ios</th>\n      <td>34.069102</td>\n    </tr>\n  </tbody>\n</table>\n</div>"
     },
     "execution_count": 21,
     "metadata": {},
     "output_type": "execute_result"
    }
   ],
   "source": [
    "# Soru 9: SOURCE'lara göre PRICE ortalamaları nedir?\n",
    "df.groupby([\"SOURCE\"]).agg({\"PRICE\": \"mean\"})"
   ],
   "metadata": {
    "collapsed": false,
    "ExecuteTime": {
     "end_time": "2023-07-24T12:45:22.176390Z",
     "start_time": "2023-07-24T12:45:22.166455Z"
    }
   }
  },
  {
   "cell_type": "code",
   "execution_count": 22,
   "outputs": [
    {
     "data": {
      "text/plain": "                     PRICE\nSOURCE  COUNTRY           \nandroid bra      34.387029\n        can      33.330709\n        deu      33.869888\n        fra      34.312500\n        tur      36.229437\n        usa      33.760357\nios     bra      34.222222\n        can      33.951456\n        deu      34.268817\n        fra      32.776224\n        tur      33.272727\n        usa      34.371703",
      "text/html": "<div>\n<style scoped>\n    .dataframe tbody tr th:only-of-type {\n        vertical-align: middle;\n    }\n\n    .dataframe tbody tr th {\n        vertical-align: top;\n    }\n\n    .dataframe thead th {\n        text-align: right;\n    }\n</style>\n<table border=\"1\" class=\"dataframe\">\n  <thead>\n    <tr style=\"text-align: right;\">\n      <th></th>\n      <th></th>\n      <th>PRICE</th>\n    </tr>\n    <tr>\n      <th>SOURCE</th>\n      <th>COUNTRY</th>\n      <th></th>\n    </tr>\n  </thead>\n  <tbody>\n    <tr>\n      <th rowspan=\"6\" valign=\"top\">android</th>\n      <th>bra</th>\n      <td>34.387029</td>\n    </tr>\n    <tr>\n      <th>can</th>\n      <td>33.330709</td>\n    </tr>\n    <tr>\n      <th>deu</th>\n      <td>33.869888</td>\n    </tr>\n    <tr>\n      <th>fra</th>\n      <td>34.312500</td>\n    </tr>\n    <tr>\n      <th>tur</th>\n      <td>36.229437</td>\n    </tr>\n    <tr>\n      <th>usa</th>\n      <td>33.760357</td>\n    </tr>\n    <tr>\n      <th rowspan=\"6\" valign=\"top\">ios</th>\n      <th>bra</th>\n      <td>34.222222</td>\n    </tr>\n    <tr>\n      <th>can</th>\n      <td>33.951456</td>\n    </tr>\n    <tr>\n      <th>deu</th>\n      <td>34.268817</td>\n    </tr>\n    <tr>\n      <th>fra</th>\n      <td>32.776224</td>\n    </tr>\n    <tr>\n      <th>tur</th>\n      <td>33.272727</td>\n    </tr>\n    <tr>\n      <th>usa</th>\n      <td>34.371703</td>\n    </tr>\n  </tbody>\n</table>\n</div>"
     },
     "execution_count": 22,
     "metadata": {},
     "output_type": "execute_result"
    }
   ],
   "source": [
    "# Soru 10: COUNTRY-SOURCE kırılımında PRICE ortalamaları nedir?\n",
    "df.groupby([\"SOURCE\", \"COUNTRY\"]).agg({\"PRICE\": \"mean\"})"
   ],
   "metadata": {
    "collapsed": false,
    "ExecuteTime": {
     "end_time": "2023-07-24T12:46:13.342523Z",
     "start_time": "2023-07-24T12:46:13.331634Z"
    }
   }
  },
  {
   "cell_type": "markdown",
   "source": [
    "# GÖREV 2: COUNTRY, SOURCE, SEX, AGE kırılımında ortalama kazançlar nedir?\n"
   ],
   "metadata": {
    "collapsed": false
   }
  },
  {
   "cell_type": "code",
   "execution_count": 23,
   "outputs": [
    {
     "data": {
      "text/plain": "                                PRICE\nCOUNTRY SOURCE  SEX    AGE           \nbra     android female 15   38.714286\n                       16   35.944444\n                       17   35.666667\n                       18   32.255814\n                       19   35.206897\n...                               ...\nusa     ios     male   42   30.250000\n                       50   39.000000\n                       53   34.000000\n                       55   29.000000\n                       59   46.500000\n\n[348 rows x 1 columns]",
      "text/html": "<div>\n<style scoped>\n    .dataframe tbody tr th:only-of-type {\n        vertical-align: middle;\n    }\n\n    .dataframe tbody tr th {\n        vertical-align: top;\n    }\n\n    .dataframe thead th {\n        text-align: right;\n    }\n</style>\n<table border=\"1\" class=\"dataframe\">\n  <thead>\n    <tr style=\"text-align: right;\">\n      <th></th>\n      <th></th>\n      <th></th>\n      <th></th>\n      <th>PRICE</th>\n    </tr>\n    <tr>\n      <th>COUNTRY</th>\n      <th>SOURCE</th>\n      <th>SEX</th>\n      <th>AGE</th>\n      <th></th>\n    </tr>\n  </thead>\n  <tbody>\n    <tr>\n      <th rowspan=\"5\" valign=\"top\">bra</th>\n      <th rowspan=\"5\" valign=\"top\">android</th>\n      <th rowspan=\"5\" valign=\"top\">female</th>\n      <th>15</th>\n      <td>38.714286</td>\n    </tr>\n    <tr>\n      <th>16</th>\n      <td>35.944444</td>\n    </tr>\n    <tr>\n      <th>17</th>\n      <td>35.666667</td>\n    </tr>\n    <tr>\n      <th>18</th>\n      <td>32.255814</td>\n    </tr>\n    <tr>\n      <th>19</th>\n      <td>35.206897</td>\n    </tr>\n    <tr>\n      <th>...</th>\n      <th>...</th>\n      <th>...</th>\n      <th>...</th>\n      <td>...</td>\n    </tr>\n    <tr>\n      <th rowspan=\"5\" valign=\"top\">usa</th>\n      <th rowspan=\"5\" valign=\"top\">ios</th>\n      <th rowspan=\"5\" valign=\"top\">male</th>\n      <th>42</th>\n      <td>30.250000</td>\n    </tr>\n    <tr>\n      <th>50</th>\n      <td>39.000000</td>\n    </tr>\n    <tr>\n      <th>53</th>\n      <td>34.000000</td>\n    </tr>\n    <tr>\n      <th>55</th>\n      <td>29.000000</td>\n    </tr>\n    <tr>\n      <th>59</th>\n      <td>46.500000</td>\n    </tr>\n  </tbody>\n</table>\n<p>348 rows × 1 columns</p>\n</div>"
     },
     "execution_count": 23,
     "metadata": {},
     "output_type": "execute_result"
    }
   ],
   "source": [
    "agg_df = df.groupby([\"COUNTRY\", \"SOURCE\", \"SEX\", \"AGE\"]).agg({\"PRICE\": \"mean\"})\n",
    "agg_df"
   ],
   "metadata": {
    "collapsed": false,
    "ExecuteTime": {
     "end_time": "2023-07-24T12:47:37.010315Z",
     "start_time": "2023-07-24T12:47:36.995479Z"
    }
   }
  },
  {
   "cell_type": "markdown",
   "source": [
    "# GÖREV 3: Çıktıyı PRICE'a göre sıralayınız.\n"
   ],
   "metadata": {
    "collapsed": false
   }
  },
  {
   "cell_type": "code",
   "execution_count": 26,
   "outputs": [
    {
     "data": {
      "text/plain": "                            PRICE\nCOUNTRY SOURCE  SEX    AGE       \nbra     android male   46    59.0\nusa     android male   36    59.0\nfra     android female 24    59.0\nusa     ios     male   32    54.0\ndeu     android female 36    49.0\n...                           ...\nusa     ios     female 38    19.0\n                       30    19.0\ncan     android female 27    19.0\nfra     android male   18    19.0\ndeu     android male   26     9.0\n\n[348 rows x 1 columns]",
      "text/html": "<div>\n<style scoped>\n    .dataframe tbody tr th:only-of-type {\n        vertical-align: middle;\n    }\n\n    .dataframe tbody tr th {\n        vertical-align: top;\n    }\n\n    .dataframe thead th {\n        text-align: right;\n    }\n</style>\n<table border=\"1\" class=\"dataframe\">\n  <thead>\n    <tr style=\"text-align: right;\">\n      <th></th>\n      <th></th>\n      <th></th>\n      <th></th>\n      <th>PRICE</th>\n    </tr>\n    <tr>\n      <th>COUNTRY</th>\n      <th>SOURCE</th>\n      <th>SEX</th>\n      <th>AGE</th>\n      <th></th>\n    </tr>\n  </thead>\n  <tbody>\n    <tr>\n      <th>bra</th>\n      <th>android</th>\n      <th>male</th>\n      <th>46</th>\n      <td>59.0</td>\n    </tr>\n    <tr>\n      <th>usa</th>\n      <th>android</th>\n      <th>male</th>\n      <th>36</th>\n      <td>59.0</td>\n    </tr>\n    <tr>\n      <th>fra</th>\n      <th>android</th>\n      <th>female</th>\n      <th>24</th>\n      <td>59.0</td>\n    </tr>\n    <tr>\n      <th>usa</th>\n      <th>ios</th>\n      <th>male</th>\n      <th>32</th>\n      <td>54.0</td>\n    </tr>\n    <tr>\n      <th>deu</th>\n      <th>android</th>\n      <th>female</th>\n      <th>36</th>\n      <td>49.0</td>\n    </tr>\n    <tr>\n      <th>...</th>\n      <th>...</th>\n      <th>...</th>\n      <th>...</th>\n      <td>...</td>\n    </tr>\n    <tr>\n      <th rowspan=\"2\" valign=\"top\">usa</th>\n      <th rowspan=\"2\" valign=\"top\">ios</th>\n      <th rowspan=\"2\" valign=\"top\">female</th>\n      <th>38</th>\n      <td>19.0</td>\n    </tr>\n    <tr>\n      <th>30</th>\n      <td>19.0</td>\n    </tr>\n    <tr>\n      <th>can</th>\n      <th>android</th>\n      <th>female</th>\n      <th>27</th>\n      <td>19.0</td>\n    </tr>\n    <tr>\n      <th>fra</th>\n      <th>android</th>\n      <th>male</th>\n      <th>18</th>\n      <td>19.0</td>\n    </tr>\n    <tr>\n      <th>deu</th>\n      <th>android</th>\n      <th>male</th>\n      <th>26</th>\n      <td>9.0</td>\n    </tr>\n  </tbody>\n</table>\n<p>348 rows × 1 columns</p>\n</div>"
     },
     "execution_count": 26,
     "metadata": {},
     "output_type": "execute_result"
    }
   ],
   "source": [
    "agg_df.sort_values(\"PRICE\", ascending=False)"
   ],
   "metadata": {
    "collapsed": false,
    "ExecuteTime": {
     "end_time": "2023-07-24T12:49:26.184194Z",
     "start_time": "2023-07-24T12:49:26.170300Z"
    }
   }
  },
  {
   "cell_type": "markdown",
   "source": [
    "# GÖREV 4: Indekste yer alan isimleri değişken ismine çeviriniz.\n"
   ],
   "metadata": {
    "collapsed": false
   }
  },
  {
   "cell_type": "code",
   "execution_count": 27,
   "outputs": [
    {
     "data": {
      "text/plain": "    COUNTRY   SOURCE     SEX  AGE      PRICE\n0       bra  android  female   15  38.714286\n1       bra  android  female   16  35.944444\n2       bra  android  female   17  35.666667\n3       bra  android  female   18  32.255814\n4       bra  android  female   19  35.206897\n..      ...      ...     ...  ...        ...\n343     usa      ios    male   42  30.250000\n344     usa      ios    male   50  39.000000\n345     usa      ios    male   53  34.000000\n346     usa      ios    male   55  29.000000\n347     usa      ios    male   59  46.500000\n\n[348 rows x 5 columns]",
      "text/html": "<div>\n<style scoped>\n    .dataframe tbody tr th:only-of-type {\n        vertical-align: middle;\n    }\n\n    .dataframe tbody tr th {\n        vertical-align: top;\n    }\n\n    .dataframe thead th {\n        text-align: right;\n    }\n</style>\n<table border=\"1\" class=\"dataframe\">\n  <thead>\n    <tr style=\"text-align: right;\">\n      <th></th>\n      <th>COUNTRY</th>\n      <th>SOURCE</th>\n      <th>SEX</th>\n      <th>AGE</th>\n      <th>PRICE</th>\n    </tr>\n  </thead>\n  <tbody>\n    <tr>\n      <th>0</th>\n      <td>bra</td>\n      <td>android</td>\n      <td>female</td>\n      <td>15</td>\n      <td>38.714286</td>\n    </tr>\n    <tr>\n      <th>1</th>\n      <td>bra</td>\n      <td>android</td>\n      <td>female</td>\n      <td>16</td>\n      <td>35.944444</td>\n    </tr>\n    <tr>\n      <th>2</th>\n      <td>bra</td>\n      <td>android</td>\n      <td>female</td>\n      <td>17</td>\n      <td>35.666667</td>\n    </tr>\n    <tr>\n      <th>3</th>\n      <td>bra</td>\n      <td>android</td>\n      <td>female</td>\n      <td>18</td>\n      <td>32.255814</td>\n    </tr>\n    <tr>\n      <th>4</th>\n      <td>bra</td>\n      <td>android</td>\n      <td>female</td>\n      <td>19</td>\n      <td>35.206897</td>\n    </tr>\n    <tr>\n      <th>...</th>\n      <td>...</td>\n      <td>...</td>\n      <td>...</td>\n      <td>...</td>\n      <td>...</td>\n    </tr>\n    <tr>\n      <th>343</th>\n      <td>usa</td>\n      <td>ios</td>\n      <td>male</td>\n      <td>42</td>\n      <td>30.250000</td>\n    </tr>\n    <tr>\n      <th>344</th>\n      <td>usa</td>\n      <td>ios</td>\n      <td>male</td>\n      <td>50</td>\n      <td>39.000000</td>\n    </tr>\n    <tr>\n      <th>345</th>\n      <td>usa</td>\n      <td>ios</td>\n      <td>male</td>\n      <td>53</td>\n      <td>34.000000</td>\n    </tr>\n    <tr>\n      <th>346</th>\n      <td>usa</td>\n      <td>ios</td>\n      <td>male</td>\n      <td>55</td>\n      <td>29.000000</td>\n    </tr>\n    <tr>\n      <th>347</th>\n      <td>usa</td>\n      <td>ios</td>\n      <td>male</td>\n      <td>59</td>\n      <td>46.500000</td>\n    </tr>\n  </tbody>\n</table>\n<p>348 rows × 5 columns</p>\n</div>"
     },
     "execution_count": 27,
     "metadata": {},
     "output_type": "execute_result"
    }
   ],
   "source": [
    "agg_df = agg_df.reset_index()\n",
    "agg_df"
   ],
   "metadata": {
    "collapsed": false,
    "ExecuteTime": {
     "end_time": "2023-07-24T12:50:03.870112Z",
     "start_time": "2023-07-24T12:50:03.863335Z"
    }
   }
  },
  {
   "cell_type": "markdown",
   "source": [
    "# GÖREV 5: AGE değişkenini kategorik değişkene çeviriniz ve agg_df'e ekleyiniz.\n"
   ],
   "metadata": {
    "collapsed": false
   }
  },
  {
   "cell_type": "code",
   "execution_count": null,
   "outputs": [],
   "source": [
    "my_bins = [0, 18, 23, 30, 40, agg_df[\"AGE\"].max()]\n",
    "my_labels = [\"0_18\", \"19_23\", \"24_30\", \"31_40\", \"41_\" + str(agg_df[\"AGE\"].max())]\n",
    "\n",
    "pd.cut(agg_df[\"AGE\"], bins=my_bins, labels=my_labels)"
   ],
   "metadata": {
    "collapsed": false
   }
  },
  {
   "cell_type": "code",
   "execution_count": 30,
   "outputs": [
    {
     "data": {
      "text/plain": "   COUNTRY   SOURCE     SEX  AGE      PRICE AGE_CUT\n0      bra  android  female   15  38.714286    0_18\n1      bra  android  female   16  35.944444    0_18\n2      bra  android  female   17  35.666667    0_18\n3      bra  android  female   18  32.255814    0_18\n4      bra  android  female   19  35.206897   19_23\n5      bra  android  female   20  31.000000   19_23\n6      bra  android  female   21  37.292683   19_23\n7      bra  android  female   22  34.945946   19_23\n8      bra  android  female   23  31.941176   19_23\n9      bra  android  female   24  36.500000   24_30\n10     bra  android  female   25  35.666667   24_30\n11     bra  android  female   26  33.166667   24_30\n12     bra  android  female   27  26.142857   24_30\n13     bra  android  female   28  22.333333   24_30\n14     bra  android  female   29  37.571429   24_30",
      "text/html": "<div>\n<style scoped>\n    .dataframe tbody tr th:only-of-type {\n        vertical-align: middle;\n    }\n\n    .dataframe tbody tr th {\n        vertical-align: top;\n    }\n\n    .dataframe thead th {\n        text-align: right;\n    }\n</style>\n<table border=\"1\" class=\"dataframe\">\n  <thead>\n    <tr style=\"text-align: right;\">\n      <th></th>\n      <th>COUNTRY</th>\n      <th>SOURCE</th>\n      <th>SEX</th>\n      <th>AGE</th>\n      <th>PRICE</th>\n      <th>AGE_CUT</th>\n    </tr>\n  </thead>\n  <tbody>\n    <tr>\n      <th>0</th>\n      <td>bra</td>\n      <td>android</td>\n      <td>female</td>\n      <td>15</td>\n      <td>38.714286</td>\n      <td>0_18</td>\n    </tr>\n    <tr>\n      <th>1</th>\n      <td>bra</td>\n      <td>android</td>\n      <td>female</td>\n      <td>16</td>\n      <td>35.944444</td>\n      <td>0_18</td>\n    </tr>\n    <tr>\n      <th>2</th>\n      <td>bra</td>\n      <td>android</td>\n      <td>female</td>\n      <td>17</td>\n      <td>35.666667</td>\n      <td>0_18</td>\n    </tr>\n    <tr>\n      <th>3</th>\n      <td>bra</td>\n      <td>android</td>\n      <td>female</td>\n      <td>18</td>\n      <td>32.255814</td>\n      <td>0_18</td>\n    </tr>\n    <tr>\n      <th>4</th>\n      <td>bra</td>\n      <td>android</td>\n      <td>female</td>\n      <td>19</td>\n      <td>35.206897</td>\n      <td>19_23</td>\n    </tr>\n    <tr>\n      <th>5</th>\n      <td>bra</td>\n      <td>android</td>\n      <td>female</td>\n      <td>20</td>\n      <td>31.000000</td>\n      <td>19_23</td>\n    </tr>\n    <tr>\n      <th>6</th>\n      <td>bra</td>\n      <td>android</td>\n      <td>female</td>\n      <td>21</td>\n      <td>37.292683</td>\n      <td>19_23</td>\n    </tr>\n    <tr>\n      <th>7</th>\n      <td>bra</td>\n      <td>android</td>\n      <td>female</td>\n      <td>22</td>\n      <td>34.945946</td>\n      <td>19_23</td>\n    </tr>\n    <tr>\n      <th>8</th>\n      <td>bra</td>\n      <td>android</td>\n      <td>female</td>\n      <td>23</td>\n      <td>31.941176</td>\n      <td>19_23</td>\n    </tr>\n    <tr>\n      <th>9</th>\n      <td>bra</td>\n      <td>android</td>\n      <td>female</td>\n      <td>24</td>\n      <td>36.500000</td>\n      <td>24_30</td>\n    </tr>\n    <tr>\n      <th>10</th>\n      <td>bra</td>\n      <td>android</td>\n      <td>female</td>\n      <td>25</td>\n      <td>35.666667</td>\n      <td>24_30</td>\n    </tr>\n    <tr>\n      <th>11</th>\n      <td>bra</td>\n      <td>android</td>\n      <td>female</td>\n      <td>26</td>\n      <td>33.166667</td>\n      <td>24_30</td>\n    </tr>\n    <tr>\n      <th>12</th>\n      <td>bra</td>\n      <td>android</td>\n      <td>female</td>\n      <td>27</td>\n      <td>26.142857</td>\n      <td>24_30</td>\n    </tr>\n    <tr>\n      <th>13</th>\n      <td>bra</td>\n      <td>android</td>\n      <td>female</td>\n      <td>28</td>\n      <td>22.333333</td>\n      <td>24_30</td>\n    </tr>\n    <tr>\n      <th>14</th>\n      <td>bra</td>\n      <td>android</td>\n      <td>female</td>\n      <td>29</td>\n      <td>37.571429</td>\n      <td>24_30</td>\n    </tr>\n  </tbody>\n</table>\n</div>"
     },
     "execution_count": 30,
     "metadata": {},
     "output_type": "execute_result"
    }
   ],
   "source": [
    "agg_df[\"AGE_CUT\"] = pd.cut(agg_df[\"AGE\"], bins=my_bins, labels=my_labels)\n",
    "agg_df.head(15)"
   ],
   "metadata": {
    "collapsed": false,
    "ExecuteTime": {
     "end_time": "2023-07-24T12:54:13.706976Z",
     "start_time": "2023-07-24T12:54:13.703614Z"
    }
   }
  },
  {
   "cell_type": "markdown",
   "source": [
    "# GÖREV 6: Yeni level based müşterileri tanımlayınız ve veri setine değişken olarak ekleyiniz.\n"
   ],
   "metadata": {
    "collapsed": false
   }
  },
  {
   "cell_type": "code",
   "execution_count": 31,
   "outputs": [
    {
     "data": {
      "text/plain": "array([['bra', 'android', 'female', '0_18'],\n       ['bra', 'android', 'female', '0_18'],\n       ['bra', 'android', 'female', '0_18'],\n       ...,\n       ['usa', 'ios', 'male', '41_66'],\n       ['usa', 'ios', 'male', '41_66'],\n       ['usa', 'ios', 'male', '41_66']], dtype=object)"
     },
     "execution_count": 31,
     "metadata": {},
     "output_type": "execute_result"
    }
   ],
   "source": [
    "agg_df.drop([\"AGE\", \"PRICE\"], axis=1).values"
   ],
   "metadata": {
    "collapsed": false,
    "ExecuteTime": {
     "end_time": "2023-07-24T12:56:30.969260Z",
     "start_time": "2023-07-24T12:56:30.964029Z"
    }
   }
  },
  {
   "cell_type": "code",
   "execution_count": 32,
   "outputs": [
    {
     "data": {
      "text/plain": "    COUNTRY   SOURCE     SEX  AGE      PRICE AGE_CUT     CUSTOMERS_LEVEL_BASED\n0       bra  android  female   15  38.714286    0_18   BRA_ANDROID_FEMALE_0_18\n1       bra  android  female   16  35.944444    0_18   BRA_ANDROID_FEMALE_0_18\n2       bra  android  female   17  35.666667    0_18   BRA_ANDROID_FEMALE_0_18\n3       bra  android  female   18  32.255814    0_18   BRA_ANDROID_FEMALE_0_18\n4       bra  android  female   19  35.206897   19_23  BRA_ANDROID_FEMALE_19_23\n..      ...      ...     ...  ...        ...     ...                       ...\n343     usa      ios    male   42  30.250000   41_66        USA_IOS_MALE_41_66\n344     usa      ios    male   50  39.000000   41_66        USA_IOS_MALE_41_66\n345     usa      ios    male   53  34.000000   41_66        USA_IOS_MALE_41_66\n346     usa      ios    male   55  29.000000   41_66        USA_IOS_MALE_41_66\n347     usa      ios    male   59  46.500000   41_66        USA_IOS_MALE_41_66\n\n[348 rows x 7 columns]",
      "text/html": "<div>\n<style scoped>\n    .dataframe tbody tr th:only-of-type {\n        vertical-align: middle;\n    }\n\n    .dataframe tbody tr th {\n        vertical-align: top;\n    }\n\n    .dataframe thead th {\n        text-align: right;\n    }\n</style>\n<table border=\"1\" class=\"dataframe\">\n  <thead>\n    <tr style=\"text-align: right;\">\n      <th></th>\n      <th>COUNTRY</th>\n      <th>SOURCE</th>\n      <th>SEX</th>\n      <th>AGE</th>\n      <th>PRICE</th>\n      <th>AGE_CUT</th>\n      <th>CUSTOMERS_LEVEL_BASED</th>\n    </tr>\n  </thead>\n  <tbody>\n    <tr>\n      <th>0</th>\n      <td>bra</td>\n      <td>android</td>\n      <td>female</td>\n      <td>15</td>\n      <td>38.714286</td>\n      <td>0_18</td>\n      <td>BRA_ANDROID_FEMALE_0_18</td>\n    </tr>\n    <tr>\n      <th>1</th>\n      <td>bra</td>\n      <td>android</td>\n      <td>female</td>\n      <td>16</td>\n      <td>35.944444</td>\n      <td>0_18</td>\n      <td>BRA_ANDROID_FEMALE_0_18</td>\n    </tr>\n    <tr>\n      <th>2</th>\n      <td>bra</td>\n      <td>android</td>\n      <td>female</td>\n      <td>17</td>\n      <td>35.666667</td>\n      <td>0_18</td>\n      <td>BRA_ANDROID_FEMALE_0_18</td>\n    </tr>\n    <tr>\n      <th>3</th>\n      <td>bra</td>\n      <td>android</td>\n      <td>female</td>\n      <td>18</td>\n      <td>32.255814</td>\n      <td>0_18</td>\n      <td>BRA_ANDROID_FEMALE_0_18</td>\n    </tr>\n    <tr>\n      <th>4</th>\n      <td>bra</td>\n      <td>android</td>\n      <td>female</td>\n      <td>19</td>\n      <td>35.206897</td>\n      <td>19_23</td>\n      <td>BRA_ANDROID_FEMALE_19_23</td>\n    </tr>\n    <tr>\n      <th>...</th>\n      <td>...</td>\n      <td>...</td>\n      <td>...</td>\n      <td>...</td>\n      <td>...</td>\n      <td>...</td>\n      <td>...</td>\n    </tr>\n    <tr>\n      <th>343</th>\n      <td>usa</td>\n      <td>ios</td>\n      <td>male</td>\n      <td>42</td>\n      <td>30.250000</td>\n      <td>41_66</td>\n      <td>USA_IOS_MALE_41_66</td>\n    </tr>\n    <tr>\n      <th>344</th>\n      <td>usa</td>\n      <td>ios</td>\n      <td>male</td>\n      <td>50</td>\n      <td>39.000000</td>\n      <td>41_66</td>\n      <td>USA_IOS_MALE_41_66</td>\n    </tr>\n    <tr>\n      <th>345</th>\n      <td>usa</td>\n      <td>ios</td>\n      <td>male</td>\n      <td>53</td>\n      <td>34.000000</td>\n      <td>41_66</td>\n      <td>USA_IOS_MALE_41_66</td>\n    </tr>\n    <tr>\n      <th>346</th>\n      <td>usa</td>\n      <td>ios</td>\n      <td>male</td>\n      <td>55</td>\n      <td>29.000000</td>\n      <td>41_66</td>\n      <td>USA_IOS_MALE_41_66</td>\n    </tr>\n    <tr>\n      <th>347</th>\n      <td>usa</td>\n      <td>ios</td>\n      <td>male</td>\n      <td>59</td>\n      <td>46.500000</td>\n      <td>41_66</td>\n      <td>USA_IOS_MALE_41_66</td>\n    </tr>\n  </tbody>\n</table>\n<p>348 rows × 7 columns</p>\n</div>"
     },
     "execution_count": 32,
     "metadata": {},
     "output_type": "execute_result"
    }
   ],
   "source": [
    "agg_df[\"CUSTOMERS_LEVEL_BASED\"] = [\"_\".join(i).upper() for i in agg_df.drop([\"AGE\", \"PRICE\"], axis=1).values]\n",
    "agg_df"
   ],
   "metadata": {
    "collapsed": false,
    "ExecuteTime": {
     "end_time": "2023-07-24T12:57:56.963094Z",
     "start_time": "2023-07-24T12:57:56.956553Z"
    }
   }
  },
  {
   "cell_type": "markdown",
   "source": [
    "# GÖREV 7: Yeni müşterileri (USA_ANDROID_MALE_0_18) segmentlere ayırınız.\n"
   ],
   "metadata": {
    "collapsed": false
   }
  },
  {
   "cell_type": "code",
   "execution_count": 33,
   "outputs": [
    {
     "data": {
      "text/plain": "  COUNTRY   SOURCE     SEX  AGE      PRICE AGE_CUT     CUSTOMERS_LEVEL_BASED SEGMENT\n0     bra  android  female   15  38.714286    0_18   BRA_ANDROID_FEMALE_0_18       A\n1     bra  android  female   16  35.944444    0_18   BRA_ANDROID_FEMALE_0_18       B\n2     bra  android  female   17  35.666667    0_18   BRA_ANDROID_FEMALE_0_18       B\n3     bra  android  female   18  32.255814    0_18   BRA_ANDROID_FEMALE_0_18       C\n4     bra  android  female   19  35.206897   19_23  BRA_ANDROID_FEMALE_19_23       B",
      "text/html": "<div>\n<style scoped>\n    .dataframe tbody tr th:only-of-type {\n        vertical-align: middle;\n    }\n\n    .dataframe tbody tr th {\n        vertical-align: top;\n    }\n\n    .dataframe thead th {\n        text-align: right;\n    }\n</style>\n<table border=\"1\" class=\"dataframe\">\n  <thead>\n    <tr style=\"text-align: right;\">\n      <th></th>\n      <th>COUNTRY</th>\n      <th>SOURCE</th>\n      <th>SEX</th>\n      <th>AGE</th>\n      <th>PRICE</th>\n      <th>AGE_CUT</th>\n      <th>CUSTOMERS_LEVEL_BASED</th>\n      <th>SEGMENT</th>\n    </tr>\n  </thead>\n  <tbody>\n    <tr>\n      <th>0</th>\n      <td>bra</td>\n      <td>android</td>\n      <td>female</td>\n      <td>15</td>\n      <td>38.714286</td>\n      <td>0_18</td>\n      <td>BRA_ANDROID_FEMALE_0_18</td>\n      <td>A</td>\n    </tr>\n    <tr>\n      <th>1</th>\n      <td>bra</td>\n      <td>android</td>\n      <td>female</td>\n      <td>16</td>\n      <td>35.944444</td>\n      <td>0_18</td>\n      <td>BRA_ANDROID_FEMALE_0_18</td>\n      <td>B</td>\n    </tr>\n    <tr>\n      <th>2</th>\n      <td>bra</td>\n      <td>android</td>\n      <td>female</td>\n      <td>17</td>\n      <td>35.666667</td>\n      <td>0_18</td>\n      <td>BRA_ANDROID_FEMALE_0_18</td>\n      <td>B</td>\n    </tr>\n    <tr>\n      <th>3</th>\n      <td>bra</td>\n      <td>android</td>\n      <td>female</td>\n      <td>18</td>\n      <td>32.255814</td>\n      <td>0_18</td>\n      <td>BRA_ANDROID_FEMALE_0_18</td>\n      <td>C</td>\n    </tr>\n    <tr>\n      <th>4</th>\n      <td>bra</td>\n      <td>android</td>\n      <td>female</td>\n      <td>19</td>\n      <td>35.206897</td>\n      <td>19_23</td>\n      <td>BRA_ANDROID_FEMALE_19_23</td>\n      <td>B</td>\n    </tr>\n  </tbody>\n</table>\n</div>"
     },
     "execution_count": 33,
     "metadata": {},
     "output_type": "execute_result"
    }
   ],
   "source": [
    "agg_df[\"SEGMENT\"] = pd.qcut(agg_df.PRICE, q=4, labels=[\"D\", \"C\", \"B\", \"A\"])\n",
    "agg_df.head()"
   ],
   "metadata": {
    "collapsed": false,
    "ExecuteTime": {
     "end_time": "2023-07-24T12:59:25.839805Z",
     "start_time": "2023-07-24T12:59:25.827359Z"
    }
   }
  },
  {
   "cell_type": "code",
   "execution_count": 34,
   "outputs": [
    {
     "data": {
      "text/plain": "  SEGMENT      PRICE\n0       D  27.302596\n1       C  32.933339\n2       B  35.436170\n3       A  41.434736",
      "text/html": "<div>\n<style scoped>\n    .dataframe tbody tr th:only-of-type {\n        vertical-align: middle;\n    }\n\n    .dataframe tbody tr th {\n        vertical-align: top;\n    }\n\n    .dataframe thead th {\n        text-align: right;\n    }\n</style>\n<table border=\"1\" class=\"dataframe\">\n  <thead>\n    <tr style=\"text-align: right;\">\n      <th></th>\n      <th>SEGMENT</th>\n      <th>PRICE</th>\n    </tr>\n  </thead>\n  <tbody>\n    <tr>\n      <th>0</th>\n      <td>D</td>\n      <td>27.302596</td>\n    </tr>\n    <tr>\n      <th>1</th>\n      <td>C</td>\n      <td>32.933339</td>\n    </tr>\n    <tr>\n      <th>2</th>\n      <td>B</td>\n      <td>35.436170</td>\n    </tr>\n    <tr>\n      <th>3</th>\n      <td>A</td>\n      <td>41.434736</td>\n    </tr>\n  </tbody>\n</table>\n</div>"
     },
     "execution_count": 34,
     "metadata": {},
     "output_type": "execute_result"
    }
   ],
   "source": [
    "agg_df.groupby(\"SEGMENT\").agg({\"PRICE\": \"mean\"}).reset_index()"
   ],
   "metadata": {
    "collapsed": false,
    "ExecuteTime": {
     "end_time": "2023-07-24T13:00:06.283486Z",
     "start_time": "2023-07-24T13:00:06.266114Z"
    }
   }
  },
  {
   "cell_type": "markdown",
   "source": [
    "# GÖREV 8: Yeni gelen müşterileri sınıflandırınız ne kadar gelir getirebileceğini tahmin ediniz.\n"
   ],
   "metadata": {
    "collapsed": false
   }
  },
  {
   "cell_type": "code",
   "execution_count": 36,
   "outputs": [
    {
     "data": {
      "text/plain": "    COUNTRY   SOURCE     SEX  AGE      PRICE AGE_CUT     CUSTOMERS_LEVEL_BASED SEGMENT\n207     tur  android  female   31  40.666667   31_40  TUR_ANDROID_FEMALE_31_40       A\n208     tur  android  female   32  43.000000   31_40  TUR_ANDROID_FEMALE_31_40       A",
      "text/html": "<div>\n<style scoped>\n    .dataframe tbody tr th:only-of-type {\n        vertical-align: middle;\n    }\n\n    .dataframe tbody tr th {\n        vertical-align: top;\n    }\n\n    .dataframe thead th {\n        text-align: right;\n    }\n</style>\n<table border=\"1\" class=\"dataframe\">\n  <thead>\n    <tr style=\"text-align: right;\">\n      <th></th>\n      <th>COUNTRY</th>\n      <th>SOURCE</th>\n      <th>SEX</th>\n      <th>AGE</th>\n      <th>PRICE</th>\n      <th>AGE_CUT</th>\n      <th>CUSTOMERS_LEVEL_BASED</th>\n      <th>SEGMENT</th>\n    </tr>\n  </thead>\n  <tbody>\n    <tr>\n      <th>207</th>\n      <td>tur</td>\n      <td>android</td>\n      <td>female</td>\n      <td>31</td>\n      <td>40.666667</td>\n      <td>31_40</td>\n      <td>TUR_ANDROID_FEMALE_31_40</td>\n      <td>A</td>\n    </tr>\n    <tr>\n      <th>208</th>\n      <td>tur</td>\n      <td>android</td>\n      <td>female</td>\n      <td>32</td>\n      <td>43.000000</td>\n      <td>31_40</td>\n      <td>TUR_ANDROID_FEMALE_31_40</td>\n      <td>A</td>\n    </tr>\n  </tbody>\n</table>\n</div>"
     },
     "execution_count": 36,
     "metadata": {},
     "output_type": "execute_result"
    }
   ],
   "source": [
    "new_user = \"TUR_ANDROID_FEMALE_31_40\"\n",
    "agg_df[agg_df[\"CUSTOMERS_LEVEL_BASED\"] == new_user]"
   ],
   "metadata": {
    "collapsed": false,
    "ExecuteTime": {
     "end_time": "2023-07-24T13:02:06.285398Z",
     "start_time": "2023-07-24T13:02:06.271691Z"
    }
   }
  },
  {
   "cell_type": "code",
   "execution_count": 37,
   "outputs": [
    {
     "data": {
      "text/plain": "  COUNTRY   SOURCE     SEX  AGE      PRICE AGE_CUT    CUSTOMERS_LEVEL_BASED SEGMENT\n0     bra  android  female   15  38.714286    0_18  BRA_ANDROID_FEMALE_0_18       A\n1     bra  android  female   16  35.944444    0_18  BRA_ANDROID_FEMALE_0_18       B\n2     bra  android  female   17  35.666667    0_18  BRA_ANDROID_FEMALE_0_18       B\n3     bra  android  female   18  32.255814    0_18  BRA_ANDROID_FEMALE_0_18       C",
      "text/html": "<div>\n<style scoped>\n    .dataframe tbody tr th:only-of-type {\n        vertical-align: middle;\n    }\n\n    .dataframe tbody tr th {\n        vertical-align: top;\n    }\n\n    .dataframe thead th {\n        text-align: right;\n    }\n</style>\n<table border=\"1\" class=\"dataframe\">\n  <thead>\n    <tr style=\"text-align: right;\">\n      <th></th>\n      <th>COUNTRY</th>\n      <th>SOURCE</th>\n      <th>SEX</th>\n      <th>AGE</th>\n      <th>PRICE</th>\n      <th>AGE_CUT</th>\n      <th>CUSTOMERS_LEVEL_BASED</th>\n      <th>SEGMENT</th>\n    </tr>\n  </thead>\n  <tbody>\n    <tr>\n      <th>0</th>\n      <td>bra</td>\n      <td>android</td>\n      <td>female</td>\n      <td>15</td>\n      <td>38.714286</td>\n      <td>0_18</td>\n      <td>BRA_ANDROID_FEMALE_0_18</td>\n      <td>A</td>\n    </tr>\n    <tr>\n      <th>1</th>\n      <td>bra</td>\n      <td>android</td>\n      <td>female</td>\n      <td>16</td>\n      <td>35.944444</td>\n      <td>0_18</td>\n      <td>BRA_ANDROID_FEMALE_0_18</td>\n      <td>B</td>\n    </tr>\n    <tr>\n      <th>2</th>\n      <td>bra</td>\n      <td>android</td>\n      <td>female</td>\n      <td>17</td>\n      <td>35.666667</td>\n      <td>0_18</td>\n      <td>BRA_ANDROID_FEMALE_0_18</td>\n      <td>B</td>\n    </tr>\n    <tr>\n      <th>3</th>\n      <td>bra</td>\n      <td>android</td>\n      <td>female</td>\n      <td>18</td>\n      <td>32.255814</td>\n      <td>0_18</td>\n      <td>BRA_ANDROID_FEMALE_0_18</td>\n      <td>C</td>\n    </tr>\n  </tbody>\n</table>\n</div>"
     },
     "execution_count": 37,
     "metadata": {},
     "output_type": "execute_result"
    }
   ],
   "source": [
    "new_user = \"FRA_IOS_FEMALE_31_30\"\n",
    "agg_df[agg_df[\"CUSTOMERS_LEVEL_BASED\"] == new_user]\n",
    "agg_df[agg_df[\"CUSTOMERS_LEVEL_BASED\"] == \"BRA_ANDROID_FEMALE_0_18\"]"
   ],
   "metadata": {
    "collapsed": false,
    "ExecuteTime": {
     "end_time": "2023-07-24T13:03:24.921413Z",
     "start_time": "2023-07-24T13:03:24.906486Z"
    }
   }
  },
  {
   "cell_type": "code",
   "execution_count": 38,
   "outputs": [
    {
     "data": {
      "text/plain": "          PRICE       AGE\nPRICE  1.000000 -0.010202\nAGE   -0.010202  1.000000",
      "text/html": "<div>\n<style scoped>\n    .dataframe tbody tr th:only-of-type {\n        vertical-align: middle;\n    }\n\n    .dataframe tbody tr th {\n        vertical-align: top;\n    }\n\n    .dataframe thead th {\n        text-align: right;\n    }\n</style>\n<table border=\"1\" class=\"dataframe\">\n  <thead>\n    <tr style=\"text-align: right;\">\n      <th></th>\n      <th>PRICE</th>\n      <th>AGE</th>\n    </tr>\n  </thead>\n  <tbody>\n    <tr>\n      <th>PRICE</th>\n      <td>1.000000</td>\n      <td>-0.010202</td>\n    </tr>\n    <tr>\n      <th>AGE</th>\n      <td>-0.010202</td>\n      <td>1.000000</td>\n    </tr>\n  </tbody>\n</table>\n</div>"
     },
     "execution_count": 38,
     "metadata": {},
     "output_type": "execute_result"
    }
   ],
   "source": [
    "df[[\"PRICE\", \"AGE\"]].corr()"
   ],
   "metadata": {
    "collapsed": false,
    "ExecuteTime": {
     "end_time": "2023-07-24T13:04:07.724705Z",
     "start_time": "2023-07-24T13:04:07.708692Z"
    }
   }
  },
  {
   "cell_type": "code",
   "execution_count": null,
   "outputs": [],
   "source": [],
   "metadata": {
    "collapsed": false
   }
  }
 ],
 "metadata": {
  "kernelspec": {
   "display_name": "Python 3",
   "language": "python",
   "name": "python3"
  },
  "language_info": {
   "codemirror_mode": {
    "name": "ipython",
    "version": 2
   },
   "file_extension": ".py",
   "mimetype": "text/x-python",
   "name": "python",
   "nbconvert_exporter": "python",
   "pygments_lexer": "ipython2",
   "version": "2.7.6"
  }
 },
 "nbformat": 4,
 "nbformat_minor": 0
}
